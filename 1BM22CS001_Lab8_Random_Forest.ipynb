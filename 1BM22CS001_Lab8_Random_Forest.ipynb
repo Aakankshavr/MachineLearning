{
  "nbformat": 4,
  "nbformat_minor": 0,
  "metadata": {
    "colab": {
      "provenance": [],
      "authorship_tag": "ABX9TyPxZ7Ba4N+pgTQ1s0jhdOwy",
      "include_colab_link": true
    },
    "kernelspec": {
      "name": "python3",
      "display_name": "Python 3"
    },
    "language_info": {
      "name": "python"
    }
  },
  "cells": [
    {
      "cell_type": "markdown",
      "metadata": {
        "id": "view-in-github",
        "colab_type": "text"
      },
      "source": [
        "<a href=\"https://colab.research.google.com/github/Aakankshavr/MachineLearning/blob/main/1BM22CS001_Lab8_Random_Forest.ipynb\" target=\"_parent\"><img src=\"https://colab.research.google.com/assets/colab-badge.svg\" alt=\"Open In Colab\"/></a>"
      ]
    },
    {
      "cell_type": "code",
      "execution_count": 1,
      "metadata": {
        "colab": {
          "base_uri": "https://localhost:8080/"
        },
        "id": "r7w1rrQ9vUD1",
        "outputId": "406e6e24-5d7e-4607-a91f-23a4e85aa57b"
      },
      "outputs": [
        {
          "output_type": "stream",
          "name": "stdout",
          "text": [
            "Accuracy: 0.8659217877094972\n",
            "Confusion Matrix:\n",
            "[[ 26   0  17]\n",
            " [  0  12   5]\n",
            " [  2   0 117]]\n"
          ]
        }
      ],
      "source": [
        "import pandas as pd\n",
        "from sklearn.model_selection import train_test_split\n",
        "from sklearn.ensemble import RandomForestClassifier\n",
        "from sklearn.metrics import accuracy_score, confusion_matrix\n",
        "from sklearn import preprocessing\n",
        "\n",
        "# Load the dataset\n",
        "df = pd.read_csv('train.csv')\n",
        "\n",
        "\n",
        "# Assuming the last column is the target variable\n",
        "X = df.iloc[:, :-1]\n",
        "y = df.iloc[:, -1]\n",
        "\n",
        "\n",
        "# Convert non-numerical columns to numerical using Label Encoding\n",
        "for column in X.columns:\n",
        "    if X[column].dtype == 'object':\n",
        "      le = preprocessing.LabelEncoder()\n",
        "      X[column] = le.fit_transform(X[column])\n",
        "\n",
        "\n",
        "# Handle potential errors during data conversion\n",
        "if y.dtype == 'object':\n",
        "  le = preprocessing.LabelEncoder()\n",
        "  y = le.fit_transform(y)\n",
        "\n",
        "# Split the data into training and testing sets\n",
        "X_train, X_test, y_train, y_test = train_test_split(X, y, test_size=0.2, random_state=42)\n",
        "\n",
        "# Initialize and train the Random Forest classifier\n",
        "rf_classifier = RandomForestClassifier(random_state=42)\n",
        "rf_classifier.fit(X_train, y_train)\n",
        "\n",
        "# Make predictions on the test set\n",
        "y_pred = rf_classifier.predict(X_test)\n",
        "\n",
        "# Evaluate the model\n",
        "accuracy = accuracy_score(y_test, y_pred)\n",
        "conf_matrix = confusion_matrix(y_test, y_pred)\n",
        "\n",
        "print(f\"Accuracy: {accuracy}\")\n",
        "print(f\"Confusion Matrix:\\n{conf_matrix}\")\n",
        "\n",
        "\n",
        "\n",
        "\n",
        "\n",
        "\n",
        "\n",
        "\n"
      ]
    },
    {
      "cell_type": "code",
      "source": [
        "\n",
        "import pandas as pd\n",
        "from sklearn.model_selection import train_test_split\n",
        "from sklearn.ensemble import RandomForestClassifier\n",
        "from sklearn.metrics import accuracy_score, confusion_matrix\n",
        "from sklearn import preprocessing\n",
        "\n",
        "# Load the dataset\n",
        "df = pd.read_csv('iris.csv')\n",
        "\n",
        "# Assuming the last column is the target variable\n",
        "X = df.iloc[:, :-1]\n",
        "y = df.iloc[:, -1]\n",
        "\n",
        "# Convert non-numerical columns to numerical using Label Encoding\n",
        "for column in X.columns:\n",
        "    if X[column].dtype == 'object':\n",
        "      le = preprocessing.LabelEncoder()\n",
        "      X[column] = le.fit_transform(X[column])\n",
        "\n",
        "# Handle potential errors during data conversion\n",
        "if y.dtype == 'object':\n",
        "  le = preprocessing.LabelEncoder()\n",
        "  y = le.fit_transform(y)\n",
        "\n",
        "# Split the data into training and testing sets\n",
        "X_train, X_test, y_train, y_test = train_test_split(X, y, test_size=0.2, random_state=42)\n",
        "\n",
        "# Initialize and train the Random Forest classifier with default n_estimators\n",
        "rf_classifier_default = RandomForestClassifier(random_state=42)\n",
        "rf_classifier_default.fit(X_train, y_train)\n",
        "\n",
        "# Make predictions and evaluate with default n_estimators\n",
        "y_pred_default = rf_classifier_default.predict(X_test)\n",
        "accuracy_default = accuracy_score(y_test, y_pred_default)\n",
        "print(f\"Accuracy with default n_estimators: {accuracy_default}\")\n",
        "\n",
        "# Fine-tune the model by changing n_estimators\n",
        "best_accuracy = 0\n",
        "best_n_estimators = 0\n",
        "for n_estimators in range(1, 101):  # Test n_estimators from 1 to 100\n",
        "    rf_classifier = RandomForestClassifier(n_estimators=n_estimators, random_state=42)\n",
        "    rf_classifier.fit(X_train, y_train)\n",
        "    y_pred = rf_classifier.predict(X_test)\n",
        "    accuracy = accuracy_score(y_test, y_pred)\n",
        "    if accuracy >= best_accuracy:\n",
        "        best_accuracy = accuracy\n",
        "        best_n_estimators = n_estimators\n",
        "\n",
        "print(f\"Best accuracy: {best_accuracy} with n_estimators = {best_n_estimators}\")"
      ],
      "metadata": {
        "colab": {
          "base_uri": "https://localhost:8080/"
        },
        "id": "OSM8UICmvjSu",
        "outputId": "648f43c9-dda7-467e-e9a5-77da43073cee"
      },
      "execution_count": 2,
      "outputs": [
        {
          "output_type": "stream",
          "name": "stdout",
          "text": [
            "Accuracy with default n_estimators: 1.0\n",
            "Best accuracy: 1.0 with n_estimators = 100\n"
          ]
        }
      ]
    }
  ]
}